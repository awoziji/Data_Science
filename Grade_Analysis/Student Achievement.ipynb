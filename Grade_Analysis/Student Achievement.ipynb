{
 "cells": [
  {
   "cell_type": "code",
   "execution_count": 82,
   "metadata": {
    "collapsed": false,
    "nbpresent": {
     "id": "74482d65-9503-44de-bd71-3d41846e1efb"
    }
   },
   "outputs": [],
   "source": [
    "%matplotlib inline \n",
    "import pandas as pd\n",
    "import matplotlib.pyplot as plt\n",
    "import matplotlib\n",
    "matplotlib.style.use('ggplot')\n",
    "import math"
   ]
  },
  {
   "cell_type": "markdown",
   "metadata": {
    "nbpresent": {
     "id": "bf43ff83-d0d3-45f5-a35c-aad87d00816e"
    }
   },
   "source": [
    "## Read in Data and Split into months"
   ]
  },
  {
   "cell_type": "code",
   "execution_count": 424,
   "metadata": {
    "collapsed": false,
    "nbpresent": {
     "id": "a1a4d9c0-fb89-42df-aceb-15bd5f74fee7"
    }
   },
   "outputs": [
    {
     "data": {
      "text/html": [
       "<div>\n",
       "<style>\n",
       "    .dataframe thead tr:only-child th {\n",
       "        text-align: right;\n",
       "    }\n",
       "\n",
       "    .dataframe thead th {\n",
       "        text-align: left;\n",
       "    }\n",
       "\n",
       "    .dataframe tbody tr th {\n",
       "        vertical-align: top;\n",
       "    }\n",
       "</style>\n",
       "<table border=\"1\" class=\"dataframe\">\n",
       "  <thead>\n",
       "    <tr style=\"text-align: right;\">\n",
       "      <th></th>\n",
       "      <th>Student ID</th>\n",
       "      <th>FirstName</th>\n",
       "      <th>Class</th>\n",
       "      <th>Category</th>\n",
       "      <th>% Correct</th>\n",
       "      <th>Proficiency Level:</th>\n",
       "    </tr>\n",
       "  </thead>\n",
       "  <tbody>\n",
       "    <tr>\n",
       "      <th>0</th>\n",
       "      <td>101932</td>\n",
       "      <td>Amber</td>\n",
       "      <td>Michigan</td>\n",
       "      <td>[Dec 10-11] Gr1 IA Math 10-11</td>\n",
       "      <td>48.5</td>\n",
       "      <td>Below</td>\n",
       "    </tr>\n",
       "    <tr>\n",
       "      <th>1</th>\n",
       "      <td>101927</td>\n",
       "      <td>D'anwill</td>\n",
       "      <td>Michigan</td>\n",
       "      <td>[Dec 10-11] Gr1 IA Math 10-11</td>\n",
       "      <td>64.5</td>\n",
       "      <td>Below</td>\n",
       "    </tr>\n",
       "    <tr>\n",
       "      <th>2</th>\n",
       "      <td>101908</td>\n",
       "      <td>Ibrahim</td>\n",
       "      <td>Virginia</td>\n",
       "      <td>[Dec 10-11] Gr1 IA Math 10-11</td>\n",
       "      <td>37.5</td>\n",
       "      <td>Below</td>\n",
       "    </tr>\n",
       "    <tr>\n",
       "      <th>3</th>\n",
       "      <td>103234</td>\n",
       "      <td>Kareen</td>\n",
       "      <td>Michigan</td>\n",
       "      <td>[Dec 10-11] Gr1 IA Math 10-11</td>\n",
       "      <td>50.6</td>\n",
       "      <td>Below</td>\n",
       "    </tr>\n",
       "    <tr>\n",
       "      <th>4</th>\n",
       "      <td>101955</td>\n",
       "      <td>Nia</td>\n",
       "      <td>Virginia</td>\n",
       "      <td>[Dec 10-11] Gr1 IA Math 10-11</td>\n",
       "      <td>40.3</td>\n",
       "      <td>Below</td>\n",
       "    </tr>\n",
       "  </tbody>\n",
       "</table>\n",
       "</div>"
      ],
      "text/plain": [
       "   Student ID FirstName     Class                       Category  % Correct  \\\n",
       "0      101932     Amber  Michigan  [Dec 10-11] Gr1 IA Math 10-11       48.5   \n",
       "1      101927  D'anwill  Michigan  [Dec 10-11] Gr1 IA Math 10-11       64.5   \n",
       "2      101908   Ibrahim  Virginia  [Dec 10-11] Gr1 IA Math 10-11       37.5   \n",
       "3      103234    Kareen  Michigan  [Dec 10-11] Gr1 IA Math 10-11       50.6   \n",
       "4      101955       Nia  Virginia  [Dec 10-11] Gr1 IA Math 10-11       40.3   \n",
       "\n",
       "  Proficiency Level:  \n",
       "0              Below  \n",
       "1              Below  \n",
       "2              Below  \n",
       "3              Below  \n",
       "4              Below  "
      ]
     },
     "execution_count": 424,
     "metadata": {},
     "output_type": "execute_result"
    }
   ],
   "source": [
    "df_math_sept = pd.read_excel('Data/StATActivity-Data&Analysis.xlsx', sheetname=1)\n",
    "df_math_dec = pd.read_excel('Data/StATActivity-Data&Analysis.xlsx', sheetname=2)\n",
    "\n",
    "df_math_sept.head()\n",
    "df_math_dec.head()"
   ]
  },
  {
   "cell_type": "markdown",
   "metadata": {
    "nbpresent": {
     "id": "3655c50c-d5bc-4f6f-8690-c8c4bd19f219"
    }
   },
   "source": [
    "### Plot Scores from September and December in Histogram Form"
   ]
  },
  {
   "cell_type": "code",
   "execution_count": 159,
   "metadata": {
    "collapsed": false,
    "nbpresent": {
     "id": "5a480643-c2b4-48e6-8730-e6b562d384c4"
    },
    "scrolled": false
   },
   "outputs": [
    {
     "data": {
      "text/plain": [
       "<matplotlib.legend.Legend at 0x11977f128>"
      ]
     },
     "execution_count": 159,
     "metadata": {},
     "output_type": "execute_result"
    },
    {
     "data": {
      "image/png": "[encoded data removed]",
      "text/plain": [
       "<matplotlib.figure.Figure at 0x118c4cd68>"
      ]
     },
     "metadata": {},
     "output_type": "display_data"
    }
   ],
   "source": [
    "plt.figure()\n",
    "df_math_sept['% Correct'].hist(bins=20, alpha=0.8, label='Sept.')\n",
    "df_math_dec['% Correct'].hist(bins=20, alpha=0.8, label='Dec.')\n",
    "plt.legend()"
   ]
  },
  {
   "cell_type": "markdown",
   "metadata": {
    "nbpresent": {
     "id": "3d49effb-edc4-4e32-97f5-71edceffad2b"
    }
   },
   "source": [
    "Noticable shift from Sept -> Dec"
   ]
  },
  {
   "cell_type": "code",
   "execution_count": 168,
   "metadata": {
    "collapsed": false,
    "nbpresent": {
     "id": "f2a11858-89c9-4a7c-ac0c-926c2b1a9041"
    }
   },
   "outputs": [
    {
     "name": "stdout",
     "output_type": "stream",
     "text": [
      "Change in\n",
      "Mean: 11.81\n",
      "Median: 12.15\n",
      "Range: -6.6\n"
     ]
    }
   ],
   "source": [
    "sept_attr = (df_math_sept['% Correct'].mean(), df_math_sept['% Correct'].median(),max(df_math_sept['% Correct'])-min(df_math_sept['% Correct']))\n",
    "dec_attr = (df_math_dec['% Correct'].mean(), df_math_dec['% Correct'].median(),max(df_math_dec['% Correct'])-min(df_math_dec['% Correct']))\n",
    "\n",
    "print('Change in\\nMean: {}\\nMedian: {}\\nRange: {}'.format(*[round(x-y,2) for x, y in zip(dec_attr,sept_attr)]))"
   ]
  },
  {
   "cell_type": "markdown",
   "metadata": {
    "nbpresent": {
     "id": "3fc3762c-ed08-49e4-8d82-7a3e8e18ee4b"
    }
   },
   "source": [
    "## Anonymize and Work with Entire Grade"
   ]
  },
  {
   "cell_type": "code",
   "execution_count": 130,
   "metadata": {
    "collapsed": false,
    "nbpresent": {
     "id": "4663ef62-1927-416a-8b7d-31f811ddbbae"
    }
   },
   "outputs": [
    {
     "data": {
      "text/html": [
       "<div>\n",
       "<style>\n",
       "    .dataframe thead tr:only-child th {\n",
       "        text-align: right;\n",
       "    }\n",
       "\n",
       "    .dataframe thead th {\n",
       "        text-align: left;\n",
       "    }\n",
       "\n",
       "    .dataframe tbody tr th {\n",
       "        vertical-align: top;\n",
       "    }\n",
       "</style>\n",
       "<table border=\"1\" class=\"dataframe\">\n",
       "  <thead>\n",
       "    <tr style=\"text-align: right;\">\n",
       "      <th></th>\n",
       "      <th>Sept % Correct</th>\n",
       "      <th>Dec % Correct</th>\n",
       "      <th>% Change</th>\n",
       "    </tr>\n",
       "    <tr>\n",
       "      <th>Student ID</th>\n",
       "      <th></th>\n",
       "      <th></th>\n",
       "      <th></th>\n",
       "    </tr>\n",
       "  </thead>\n",
       "  <tbody>\n",
       "    <tr>\n",
       "      <th>101986</th>\n",
       "      <td>28.7</td>\n",
       "      <td>95.7</td>\n",
       "      <td>67.0</td>\n",
       "    </tr>\n",
       "    <tr>\n",
       "      <th>101898</th>\n",
       "      <td>37.4</td>\n",
       "      <td>95.7</td>\n",
       "      <td>58.3</td>\n",
       "    </tr>\n",
       "    <tr>\n",
       "      <th>103167</th>\n",
       "      <td>40.1</td>\n",
       "      <td>95.7</td>\n",
       "      <td>55.6</td>\n",
       "    </tr>\n",
       "    <tr>\n",
       "      <th>101938</th>\n",
       "      <td>45.5</td>\n",
       "      <td>95.7</td>\n",
       "      <td>50.2</td>\n",
       "    </tr>\n",
       "    <tr>\n",
       "      <th>101914</th>\n",
       "      <td>33.0</td>\n",
       "      <td>78.2</td>\n",
       "      <td>45.2</td>\n",
       "    </tr>\n",
       "  </tbody>\n",
       "</table>\n",
       "</div>"
      ],
      "text/plain": [
       "            Sept % Correct  Dec % Correct  % Change\n",
       "Student ID                                         \n",
       "101986                28.7           95.7      67.0\n",
       "101898                37.4           95.7      58.3\n",
       "103167                40.1           95.7      55.6\n",
       "101938                45.5           95.7      50.2\n",
       "101914                33.0           78.2      45.2"
      ]
     },
     "execution_count": 130,
     "metadata": {},
     "output_type": "execute_result"
    }
   ],
   "source": [
    "sept_grades = df_math_sept[['Student ID','% Correct']].set_index('Student ID')\n",
    "sept_grades.rename(columns={'% Correct': 'Sept % Correct'}, inplace=True)\n",
    "dec_grades = df_math_dec[['Student ID', '% Correct']].set_index('Student ID')\n",
    "dec_grades.rename(columns={'% Correct': 'Dec % Correct'}, inplace=True)\n",
    "grades = sept_grades.join(dec_grades, how='left')\n",
    "grades['% Change'] = grades['Dec % Correct'] - grades['Sept % Correct']\n",
    "grades.sort_values('% Change', ascending=False, axis=0, inplace=True);\n",
    "grades.head()"
   ]
  },
  {
   "cell_type": "code",
   "execution_count": 456,
   "metadata": {
    "collapsed": false
   },
   "outputs": [
    {
     "data": {
      "text/plain": [
       "Sept % Correct    53.919444\n",
       "Dec % Correct     65.729167\n",
       "% Change          11.809722\n",
       "dtype: float64"
      ]
     },
     "execution_count": 456,
     "metadata": {},
     "output_type": "execute_result"
    }
   ],
   "source": [
    "grades.mean()"
   ]
  },
  {
   "cell_type": "code",
   "execution_count": 410,
   "metadata": {
    "collapsed": false,
    "nbpresent": {
     "id": "c692bbd3-6db1-40da-8fde-d4086c9b729b"
    },
    "scrolled": true
   },
   "outputs": [
    {
     "data": {
      "text/plain": [
       "<matplotlib.figure.Figure at 0x12f4b5390>"
      ]
     },
     "metadata": {},
     "output_type": "display_data"
    },
    {
     "data": {
      "image/png": "[encoded data removed]",
      "text/plain": [
       "<matplotlib.figure.Figure at 0x12f2f5400>"
      ]
     },
     "metadata": {},
     "output_type": "display_data"
    }
   ],
   "source": [
    "plt.figure()\n",
    "ax=grades.plot(kind='hist', subplots=True, alpha=0.8, bins = 20, legend=False,\\\n",
    "            layout=(1,3),figsize=(15,4),title=['Sept. % Correct', 'Dec. % Correct', 'Difference'])\n",
    "plt.suptitle('Grade 1 Math Scores',fontsize=24,y=1.11)\n",
    "for i in range(len(ax[0])):\n",
    "    ax[0][i].set_xlabel('Score')\n",
    "plt.tight_layout()"
   ]
  },
  {
   "cell_type": "markdown",
   "metadata": {
    "nbpresent": {
     "id": "77a51ed0-868a-480e-bfae-fd2872c45374"
    }
   },
   "source": [
    "### Split into classes"
   ]
  },
  {
   "cell_type": "code",
   "execution_count": 191,
   "metadata": {
    "collapsed": false,
    "nbpresent": {
     "id": "96842dda-2d86-4e83-abc0-c50e11b326a5"
    }
   },
   "outputs": [],
   "source": [
    "Michigan_math = df_math_sept.set_index('Student ID').join(df_math_dec.set_index('Student ID'), how='left', rsuffix='_Dec')\n",
    "Virginia_math = Michigan_math[['Class','First Name','% Correct','% Correct_Dec']][Michigan_math['Class']== 'Virginia']\n",
    "Cornell_math = Michigan_math[Michigan_math[['Class','First Name','% Correct','% Correct_Dec']]['Class']== 'Cornell']\n",
    "Michigan_math = Michigan_math[Michigan_math[['Class','First Name','% Correct','% Correct_Dec']]['Class']== 'Michigan']\n",
    "\n",
    "Virginia_math['Diff'] = Virginia_math['% Correct_Dec'] - Virginia_math['% Correct']\n",
    "Cornell_math['Diff'] = Cornell_math['% Correct_Dec'] - Cornell_math['% Correct']\n",
    "Michigan_math['Diff'] = Michigan_math['% Correct_Dec'] - Michigan_math['% Correct']"
   ]
  },
  {
   "cell_type": "code",
   "execution_count": 292,
   "metadata": {
    "collapsed": false,
    "nbpresent": {
     "id": "e89d6f94-7450-4235-a7f5-df4eb95e128e"
    }
   },
   "outputs": [
    {
     "name": "stdout",
     "output_type": "stream",
     "text": [
      "Michigan improved by 16.8%\n",
      "Cornell improved by 8.5%\n",
      "Virginia improved by 10.2%\n"
     ]
    }
   ],
   "source": [
    "class_improvement = {'Virginia':Virginia_math.Diff.mean(),'Cornell': Cornell_math.Diff.mean(),\\\n",
    "                     'Michigan':Michigan_math.Diff.mean()}\n",
    "for k,v in class_improvement.items():\n",
    "    print('{} improved by {}%'.format(k,round(v,1)))"
   ]
  },
  {
   "cell_type": "markdown",
   "metadata": {
    "nbpresent": {
     "id": "8ee7d535-9874-48f6-8ff5-9679027310c6"
    }
   },
   "source": [
    "### Plot each class histogram"
   ]
  },
  {
   "cell_type": "code",
   "execution_count": 388,
   "metadata": {
    "collapsed": false,
    "nbpresent": {
     "id": "cb60b12c-d2aa-41c4-b4ce-303ef9d5a803"
    },
    "scrolled": false
   },
   "outputs": [
    {
     "data": {
      "image/png": "[encoded data removed]",
      "text/plain": [
       "<matplotlib.figure.Figure at 0x12bf35780>"
      ]
     },
     "metadata": {},
     "output_type": "display_data"
    },
    {
     "data": {
      "image/png": "[encoded data removed]",
      "text/plain": [
       "<matplotlib.figure.Figure at 0x129df66d8>"
      ]
     },
     "metadata": {},
     "output_type": "display_data"
    },
    {
     "data": {
      "image/png": "[encoded data removed]",
      "text/plain": [
       "<matplotlib.figure.Figure at 0x12bb9bf28>"
      ]
     },
     "metadata": {},
     "output_type": "display_data"
    }
   ],
   "source": [
    "fig, ax = plt.subplots(1,3,figsize=(10,3.3), subplot_kw={'ylim': (0,8)})\n",
    "fig.suptitle('Virginia',fontsize=24, y=1.08)\n",
    "for axis in ax:\n",
    "    axis.set(xlabel=\"Score\", ylabel=\"# of Students\")\n",
    "ax[0].set_title('Sept. % Correct')\n",
    "ax[1].set_title('Dec. % Correct')\n",
    "ax[2].set_title('Difference')\n",
    "Virginia_math['% Correct'].hist(color='chartreuse',alpha=0.8, bins = 20,\\\n",
    "                           label='Virginia',range=[0, 100], ax= ax[0])\n",
    "Virginia_math['% Correct_Dec'].hist(color='lime',alpha=0.8, bins = 20,\\\n",
    "                           label='Virginia',range=[0, 100], ax= ax[1])\n",
    "Virginia_math['Diff'].hist(color='forestgreen',alpha=0.8, bins = 20,\\\n",
    "                           label='Virginia',range=[-35, 65],  ax= ax[2])\n",
    "fig.tight_layout()\n",
    "\n",
    "\n",
    "fig, ax = plt.subplots(1,3,figsize=(10,3.3),subplot_kw={'ylim': (0,8)})\n",
    "fig.suptitle('Cornell',fontsize=24, y=1.08)\n",
    "for axis in ax:\n",
    "    axis.set(xlabel=\"Score\", ylabel=\"# of Students\")\n",
    "    ax[0].set_title('Sept. % Correct')\n",
    "ax[1].set_title('Dec. % Correct')\n",
    "ax[2].set_title('Difference')\n",
    "Cornell_math['% Correct'].hist(color='coral',alpha=0.8, bins = 20,\\\n",
    "                           label = 'Cornell',range=[0, 100], ax= ax[0])\n",
    "Cornell_math['% Correct_Dec'].hist(color='orangered',alpha=0.8, bins = 20,\\\n",
    "                           label = 'Cornell',range=[0, 100], ax= ax[1])\n",
    "Cornell_math['Diff'].hist(color='darkred',alpha=0.8, bins = 20,\\\n",
    "                           label = 'Cornell',range=[-35, 65],  ax= ax[2])\n",
    "fig.tight_layout()\n",
    "\n",
    "\n",
    "fig, ax = plt.subplots(1,3,figsize=(10,3.3),subplot_kw={'ylim': (0,8)})\n",
    "\n",
    "fig.suptitle('Michigan',fontsize=24, y=1.08)\n",
    "for axis in ax:\n",
    "    axis.set(xlabel=\"Score\", ylabel=\"# of Students\")\n",
    "ax[0].set_title('Sept. % Correct')\n",
    "ax[1].set_title('Dec. % Correct')\n",
    "ax[2].set_title('Difference')\n",
    "Michigan_math['% Correct'].hist(color='deepskyblue',alpha=0.8, bins = 20,\\\n",
    "                           label = 'Michigan',range=[0, 100],  ax= ax[0])\n",
    "Michigan_math['% Correct_Dec'].hist(color='cadetblue',alpha=0.8, bins = 20,\\\n",
    "                           label = 'Michigan',range=[0, 100], ax= ax[1])\n",
    "Michigan_math['Diff'].hist(color='teal',alpha=0.8, bins = 20,\\\n",
    "                           label = 'Michigan',range=[-35, 65], ax= ax[2])\n",
    "fig.tight_layout()"
   ]
  },
  {
   "cell_type": "markdown",
   "metadata": {
    "nbpresent": {
     "id": "e881330e-7280-4948-b4ce-0298f6f9ea23"
    }
   },
   "source": [
    "### Further Graphical Analysis\n",
    "Further grahical analysis can be found here: http://bit.ly/SABronx1GA\n",
    "The analysis includes growth curves and be looked at on the grade level and by class."
   ]
  },
  {
   "cell_type": "markdown",
   "metadata": {
    "nbpresent": {
     "id": "002e15c7-d1e5-40a8-90be-acf97b85450f"
    }
   },
   "source": [
    "## Analysis of Progress"
   ]
  },
  {
   "cell_type": "code",
   "execution_count": 445,
   "metadata": {
    "collapsed": false
   },
   "outputs": [
    {
     "name": "stdout",
     "output_type": "stream",
     "text": [
      "58 students have shown improvement and 14 have shown regression.\n"
     ]
    }
   ],
   "source": [
    "print('{} students have shown improvement and {} have shown regression.'.format(\\\n",
    "            grades['% Change'][grades['% Change'] > 0].count(),grades['% Change'][grades['% Change'] < 0].count()))"
   ]
  },
  {
   "cell_type": "code",
   "execution_count": 312,
   "metadata": {
    "collapsed": false,
    "nbpresent": {
     "id": "aaa6c2f8-8088-43b4-a610-9e9b88b64e11"
    }
   },
   "outputs": [],
   "source": [
    "most_prog = df_math_sept[['First Name', 'Class', 'Student ID']][df_math_sept['Student ID'] == grades.index[0]]\n",
    "least_prog = df_math_sept[['First Name', 'Class', 'Student ID']][df_math_sept['Student ID'] == grades.index[-1]]"
   ]
  },
  {
   "cell_type": "code",
   "execution_count": 331,
   "metadata": {
    "collapsed": false,
    "nbpresent": {
     "id": "0a7e6284-17d7-4697-b462-c442c4a456f8"
    }
   },
   "outputs": [],
   "source": [
    "most_prog['Improvement'] = grades['% Change'].loc[most_prog['Student ID']].values\n",
    "least_prog['Improvement'] = grades['% Change'].loc[least_prog['Student ID']].values"
   ]
  },
  {
   "cell_type": "code",
   "execution_count": 432,
   "metadata": {
    "collapsed": false,
    "nbpresent": {
     "id": "f57c774b-e5d3-4f61-85e2-baab68e55078"
    },
    "scrolled": false
   },
   "outputs": [
    {
     "name": "stdout",
     "output_type": "stream",
     "text": [
      "Most Progress:\n",
      "Aneuris in Virginia Class: 67.0\n",
      "Least Progress:\n",
      "Ashhab in Virginia: -29.400000000000006\n"
     ]
    }
   ],
   "source": [
    "print('Most Progress:\\n{} in {} Class: {}\\nLeast Progress:\\n{} in {}: {}'.\\\n",
    "      format(*[most_prog.values[0][i] for i in [0,1,-1]]+[least_prog.values[0][i] for i in [0,1,-1]]))"
   ]
  },
  {
   "cell_type": "code",
   "execution_count": 429,
   "metadata": {
    "collapsed": false
   },
   "outputs": [],
   "source": [
    "top_five = df_math_sept[['First Name', 'Class', 'Student ID']][df_math_sept['Student ID'].isin(grades.index[:5])].set_index('Student ID')\n",
    "bottom_five = df_math_sept[['First Name', 'Class', 'Student ID']][df_math_sept['Student ID'].isin(grades.index[-5:])].set_index('Student ID')"
   ]
  },
  {
   "cell_type": "code",
   "execution_count": 440,
   "metadata": {
    "collapsed": false
   },
   "outputs": [],
   "source": [
    "top_five = top_five.join(grades['% Change']).sort_values('% Change', ascending=False, axis=0)\n",
    "bottom_five = bottom_five.join(grades['% Change']).sort_values('% Change', ascending=False, axis=0)"
   ]
  },
  {
   "cell_type": "code",
   "execution_count": 457,
   "metadata": {
    "collapsed": false
   },
   "outputs": [
    {
     "data": {
      "text/html": [
       "<div>\n",
       "<style>\n",
       "    .dataframe thead tr:only-child th {\n",
       "        text-align: right;\n",
       "    }\n",
       "\n",
       "    .dataframe thead th {\n",
       "        text-align: left;\n",
       "    }\n",
       "\n",
       "    .dataframe tbody tr th {\n",
       "        vertical-align: top;\n",
       "    }\n",
       "</style>\n",
       "<table border=\"1\" class=\"dataframe\">\n",
       "  <thead>\n",
       "    <tr style=\"text-align: right;\">\n",
       "      <th></th>\n",
       "      <th>First Name</th>\n",
       "      <th>Class</th>\n",
       "      <th>% Change</th>\n",
       "    </tr>\n",
       "    <tr>\n",
       "      <th>Student ID</th>\n",
       "      <th></th>\n",
       "      <th></th>\n",
       "      <th></th>\n",
       "    </tr>\n",
       "  </thead>\n",
       "  <tbody>\n",
       "    <tr>\n",
       "      <th>101986</th>\n",
       "      <td>Aneuris</td>\n",
       "      <td>Virginia</td>\n",
       "      <td>67.0</td>\n",
       "    </tr>\n",
       "    <tr>\n",
       "      <th>101898</th>\n",
       "      <td>Alex</td>\n",
       "      <td>Virginia</td>\n",
       "      <td>58.3</td>\n",
       "    </tr>\n",
       "    <tr>\n",
       "      <th>103167</th>\n",
       "      <td>Sophaine</td>\n",
       "      <td>Michigan</td>\n",
       "      <td>55.6</td>\n",
       "    </tr>\n",
       "    <tr>\n",
       "      <th>101938</th>\n",
       "      <td>Jalen</td>\n",
       "      <td>Michigan</td>\n",
       "      <td>50.2</td>\n",
       "    </tr>\n",
       "    <tr>\n",
       "      <th>101914</th>\n",
       "      <td>Robert</td>\n",
       "      <td>Michigan</td>\n",
       "      <td>45.2</td>\n",
       "    </tr>\n",
       "  </tbody>\n",
       "</table>\n",
       "</div>"
      ],
      "text/plain": [
       "           First Name     Class  % Change\n",
       "Student ID                               \n",
       "101986        Aneuris  Virginia      67.0\n",
       "101898           Alex  Virginia      58.3\n",
       "103167       Sophaine  Michigan      55.6\n",
       "101938          Jalen  Michigan      50.2\n",
       "101914         Robert  Michigan      45.2"
      ]
     },
     "execution_count": 457,
     "metadata": {},
     "output_type": "execute_result"
    }
   ],
   "source": [
    "top_five"
   ]
  },
  {
   "cell_type": "code",
   "execution_count": 442,
   "metadata": {
    "collapsed": false,
    "scrolled": true
   },
   "outputs": [
    {
     "data": {
      "text/html": [
       "<div>\n",
       "<style>\n",
       "    .dataframe thead tr:only-child th {\n",
       "        text-align: right;\n",
       "    }\n",
       "\n",
       "    .dataframe thead th {\n",
       "        text-align: left;\n",
       "    }\n",
       "\n",
       "    .dataframe tbody tr th {\n",
       "        vertical-align: top;\n",
       "    }\n",
       "</style>\n",
       "<table border=\"1\" class=\"dataframe\">\n",
       "  <thead>\n",
       "    <tr style=\"text-align: right;\">\n",
       "      <th></th>\n",
       "      <th>First Name</th>\n",
       "      <th>Class</th>\n",
       "      <th>% Change</th>\n",
       "    </tr>\n",
       "    <tr>\n",
       "      <th>Student ID</th>\n",
       "      <th></th>\n",
       "      <th></th>\n",
       "      <th></th>\n",
       "    </tr>\n",
       "  </thead>\n",
       "  <tbody>\n",
       "    <tr>\n",
       "      <th>101960</th>\n",
       "      <td>Kam'Rynn</td>\n",
       "      <td>Cornell</td>\n",
       "      <td>-19.2</td>\n",
       "    </tr>\n",
       "    <tr>\n",
       "      <th>101974</th>\n",
       "      <td>Mya</td>\n",
       "      <td>Virginia</td>\n",
       "      <td>-20.4</td>\n",
       "    </tr>\n",
       "    <tr>\n",
       "      <th>101908</th>\n",
       "      <td>Ibrahim</td>\n",
       "      <td>Virginia</td>\n",
       "      <td>-23.4</td>\n",
       "    </tr>\n",
       "    <tr>\n",
       "      <th>101963</th>\n",
       "      <td>Oumou</td>\n",
       "      <td>Virginia</td>\n",
       "      <td>-29.0</td>\n",
       "    </tr>\n",
       "    <tr>\n",
       "      <th>101905</th>\n",
       "      <td>Ashhab</td>\n",
       "      <td>Virginia</td>\n",
       "      <td>-29.4</td>\n",
       "    </tr>\n",
       "  </tbody>\n",
       "</table>\n",
       "</div>"
      ],
      "text/plain": [
       "           First Name     Class  % Change\n",
       "Student ID                               \n",
       "101960       Kam'Rynn   Cornell     -19.2\n",
       "101974            Mya  Virginia     -20.4\n",
       "101908        Ibrahim  Virginia     -23.4\n",
       "101963          Oumou  Virginia     -29.0\n",
       "101905         Ashhab  Virginia     -29.4"
      ]
     },
     "execution_count": 442,
     "metadata": {},
     "output_type": "execute_result"
    }
   ],
   "source": [
    "bottom_five"
   ]
  },
  {
   "cell_type": "code",
   "execution_count": 461,
   "metadata": {
    "collapsed": false
   },
   "outputs": [
    {
     "data": {
      "text/plain": [
       "% Correct        54.65\n",
       "% Correct_Dec    69.40\n",
       "Diff             16.95\n",
       "dtype: float64"
      ]
     },
     "execution_count": 461,
     "metadata": {},
     "output_type": "execute_result"
    }
   ],
   "source": [
    "Michigan_math.median()"
   ]
  },
  {
   "cell_type": "code",
   "execution_count": 462,
   "metadata": {
    "collapsed": false
   },
   "outputs": [
    {
     "data": {
      "text/plain": [
       "% Correct        53.5\n",
       "% Correct_Dec    63.4\n",
       "Diff             12.1\n",
       "dtype: float64"
      ]
     },
     "execution_count": 462,
     "metadata": {},
     "output_type": "execute_result"
    }
   ],
   "source": [
    "Virginia_math.median()"
   ]
  },
  {
   "cell_type": "code",
   "execution_count": 463,
   "metadata": {
    "collapsed": false
   },
   "outputs": [
    {
     "data": {
      "text/plain": [
       "% Correct        47.80\n",
       "% Correct_Dec    63.20\n",
       "Diff              9.25\n",
       "dtype: float64"
      ]
     },
     "execution_count": 463,
     "metadata": {},
     "output_type": "execute_result"
    }
   ],
   "source": [
    "Cornell_math.median()"
   ]
  },
  {
   "cell_type": "markdown",
   "metadata": {
    "nbpresent": {
     "id": "f76a7066-731a-4b39-81e3-7085bdac5ca9"
    }
   },
   "source": [
    "## Anonymizing Data"
   ]
  },
  {
   "cell_type": "code",
   "execution_count": 373,
   "metadata": {
    "collapsed": false,
    "nbpresent": {
     "id": "38687dc7-72be-471b-85c1-f2d4345cae18"
    }
   },
   "outputs": [],
   "source": [
    "import hashlib\n",
    "anon_data = df_math_sept.set_index('Student ID')\n",
    "anon_data['First Name'] = [hashlib.md5(val.encode('utf-8')).hexdigest() for val in anon_data['First Name']]\n",
    "anon_data['Class'] = [hashlib.md5(val.encode('utf-8')).hexdigest() for val in anon_data['Class']]"
   ]
  },
  {
   "cell_type": "code",
   "execution_count": 374,
   "metadata": {
    "collapsed": false,
    "nbpresent": {
     "id": "f3571afd-2695-4c10-ba26-886a94a87908"
    }
   },
   "outputs": [
    {
     "data": {
      "text/html": [
       "<div>\n",
       "<style>\n",
       "    .dataframe thead tr:only-child th {\n",
       "        text-align: right;\n",
       "    }\n",
       "\n",
       "    .dataframe thead th {\n",
       "        text-align: left;\n",
       "    }\n",
       "\n",
       "    .dataframe tbody tr th {\n",
       "        vertical-align: top;\n",
       "    }\n",
       "</style>\n",
       "<table border=\"1\" class=\"dataframe\">\n",
       "  <thead>\n",
       "    <tr style=\"text-align: right;\">\n",
       "      <th></th>\n",
       "      <th>First Name</th>\n",
       "      <th>Class</th>\n",
       "      <th>% Correct</th>\n",
       "      <th>Proficiency Level:</th>\n",
       "    </tr>\n",
       "    <tr>\n",
       "      <th>Student ID</th>\n",
       "      <th></th>\n",
       "      <th></th>\n",
       "      <th></th>\n",
       "      <th></th>\n",
       "    </tr>\n",
       "  </thead>\n",
       "  <tbody>\n",
       "    <tr>\n",
       "      <th>102090</th>\n",
       "      <td>2b8a7111ff8625d4d1e88cee62cde0f6</td>\n",
       "      <td>32975dde4a99518d0dd37352167da63a</td>\n",
       "      <td>49.1</td>\n",
       "      <td>Below</td>\n",
       "    </tr>\n",
       "    <tr>\n",
       "      <th>101906</th>\n",
       "      <td>873b8090f6454551dcba3ef195ab5fdb</td>\n",
       "      <td>d838a193f4b45fc026435fcfaed69928</td>\n",
       "      <td>43.5</td>\n",
       "      <td>Below</td>\n",
       "    </tr>\n",
       "    <tr>\n",
       "      <th>101982</th>\n",
       "      <td>882538ddfa1554742f0f0c762f97ddfc</td>\n",
       "      <td>412fc58156e5b3c0152d0ae0f015a5df</td>\n",
       "      <td>68.2</td>\n",
       "      <td>Approaching</td>\n",
       "    </tr>\n",
       "    <tr>\n",
       "      <th>101947</th>\n",
       "      <td>7883cd32b17b988c2e7c6c8cdac5e84a</td>\n",
       "      <td>32975dde4a99518d0dd37352167da63a</td>\n",
       "      <td>47.8</td>\n",
       "      <td>Below</td>\n",
       "    </tr>\n",
       "    <tr>\n",
       "      <th>101898</th>\n",
       "      <td>7794a83d18f0384868b7fa5a11b5cfdc</td>\n",
       "      <td>d838a193f4b45fc026435fcfaed69928</td>\n",
       "      <td>37.4</td>\n",
       "      <td>Below</td>\n",
       "    </tr>\n",
       "  </tbody>\n",
       "</table>\n",
       "</div>"
      ],
      "text/plain": [
       "                                  First Name  \\\n",
       "Student ID                                     \n",
       "102090      2b8a7111ff8625d4d1e88cee62cde0f6   \n",
       "101906      873b8090f6454551dcba3ef195ab5fdb   \n",
       "101982      882538ddfa1554742f0f0c762f97ddfc   \n",
       "101947      7883cd32b17b988c2e7c6c8cdac5e84a   \n",
       "101898      7794a83d18f0384868b7fa5a11b5cfdc   \n",
       "\n",
       "                                       Class  % Correct Proficiency Level:  \n",
       "Student ID                                                                  \n",
       "102090      32975dde4a99518d0dd37352167da63a       49.1              Below  \n",
       "101906      d838a193f4b45fc026435fcfaed69928       43.5              Below  \n",
       "101982      412fc58156e5b3c0152d0ae0f015a5df       68.2        Approaching  \n",
       "101947      32975dde4a99518d0dd37352167da63a       47.8              Below  \n",
       "101898      d838a193f4b45fc026435fcfaed69928       37.4              Below  "
      ]
     },
     "execution_count": 374,
     "metadata": {},
     "output_type": "execute_result"
    }
   ],
   "source": [
    "anon_data[['First Name','Class','% Correct','Proficiency Level:']].head()"
   ]
  }
 ],
 "metadata": {
  "anaconda-cloud": {},
  "kernelspec": {
   "display_name": "Python [default]",
   "language": "python",
   "name": "python3"
  },
  "language_info": {
   "codemirror_mode": {
    "name": "ipython",
    "version": 3
   },
   "file_extension": ".py",
   "mimetype": "text/x-python",
   "name": "python",
   "nbconvert_exporter": "python",
   "pygments_lexer": "ipython3",
   "version": "3.5.2"
  },
  "nbpresent": {
   "slides": {
    "04acbe50-7f68-4842-a722-453d2f2e9df8": {
     "id": "04acbe50-7f68-4842-a722-453d2f2e9df8",
     "prev": "320f00aa-5d82-4ce8-9117-fc6835182783",
     "regions": {
      "d6c90752-ad24-4a4e-919c-35c75079ec03": {
       "attrs": {
        "height": 0.8,
        "width": 0.8,
        "x": 0.1,
        "y": 0.1
       },
       "content": {
        "cell": "f2a11858-89c9-4a7c-ac0c-926c2b1a9041",
        "part": "whole"
       },
       "id": "d6c90752-ad24-4a4e-919c-35c75079ec03"
      }
     }
    },
    "12c05363-60a7-4ce5-9fe6-b26e15290c87": {
     "id": "12c05363-60a7-4ce5-9fe6-b26e15290c87",
     "prev": "f2b4cbb9-9feb-491b-bc4a-2185735cc73b",
     "regions": {
      "9c76c89f-d367-4912-8d0c-738af446c9f2": {
       "attrs": {
        "height": 0.8,
        "width": 0.8,
        "x": 0.1,
        "y": 0.1
       },
       "content": {
        "cell": "f57c774b-e5d3-4f61-85e2-baab68e55078",
        "part": "whole"
       },
       "id": "9c76c89f-d367-4912-8d0c-738af446c9f2"
      }
     }
    },
    "1714f598-8b18-4bf1-af89-a7d7fae20815": {
     "id": "1714f598-8b18-4bf1-af89-a7d7fae20815",
     "prev": null,
     "regions": {
      "067771ad-e040-4e6c-a3c4-bcf68c2fa964": {
       "attrs": {
        "height": 0.8,
        "width": 0.8,
        "x": 0.1,
        "y": 0.1
       },
       "content": {
        "cell": "74482d65-9503-44de-bd71-3d41846e1efb",
        "part": "whole"
       },
       "id": "067771ad-e040-4e6c-a3c4-bcf68c2fa964"
      }
     },
     "theme": null
    },
    "1dfa7f27-b8f9-4b11-8d14-af67fb8f6e17": {
     "id": "1dfa7f27-b8f9-4b11-8d14-af67fb8f6e17",
     "prev": "bef61de7-d72c-46f8-8a72-07d1adc4156b",
     "regions": {
      "8255b7a0-142b-405d-9985-51becea8bbf2": {
       "attrs": {
        "height": 0.8,
        "width": 0.8,
        "x": 0.1,
        "y": 0.1
       },
       "content": {
        "cell": "e881330e-7280-4948-b4ce-0298f6f9ea23",
        "part": "whole"
       },
       "id": "8255b7a0-142b-405d-9985-51becea8bbf2"
      }
     }
    },
    "21c7065a-38df-43d6-8365-72f7b623a052": {
     "id": "21c7065a-38df-43d6-8365-72f7b623a052",
     "prev": "641a6e25-9b86-4689-be45-dd1259eb29c4",
     "regions": {
      "a1c44578-47f2-477b-b81c-07bb0a5c5f5e": {
       "attrs": {
        "height": 0.8,
        "width": 0.8,
        "x": 0.1,
        "y": 0.1
       },
       "content": {
        "cell": "8ee7d535-9874-48f6-8ff5-9679027310c6",
        "part": "whole"
       },
       "id": "a1c44578-47f2-477b-b81c-07bb0a5c5f5e"
      }
     }
    },
    "26a79319-d0a0-4638-8032-bda78d717ad6": {
     "id": "26a79319-d0a0-4638-8032-bda78d717ad6",
     "prev": "cd4de6c8-1e64-4f53-a67e-50ce34697501",
     "regions": {
      "224ad9a3-55eb-4cfe-b838-3e29857d7c18": {
       "attrs": {
        "height": 0.8,
        "width": 0.8,
        "x": 0.1,
        "y": 0.1
       },
       "content": {
        "cell": "38687dc7-72be-471b-85c1-f2d4345cae18",
        "part": "whole"
       },
       "id": "224ad9a3-55eb-4cfe-b838-3e29857d7c18"
      }
     }
    },
    "28c43725-c7bc-4969-8729-00f34fe5be60": {
     "id": "28c43725-c7bc-4969-8729-00f34fe5be60",
     "prev": "5c5e2117-3015-4003-a7c2-d28a010b84a0",
     "regions": {
      "c6c85535-0109-4936-8cfd-8604f34e71da": {
       "attrs": {
        "height": 0.8,
        "width": 0.8,
        "x": 0.1,
        "y": 0.1
       },
       "content": {
        "cell": "96842dda-2d86-4e83-abc0-c50e11b326a5",
        "part": "whole"
       },
       "id": "c6c85535-0109-4936-8cfd-8604f34e71da"
      }
     }
    },
    "320f00aa-5d82-4ce8-9117-fc6835182783": {
     "id": "320f00aa-5d82-4ce8-9117-fc6835182783",
     "prev": "32c60862-fd59-48b8-b50c-773bfad231a7",
     "regions": {
      "4d2d7857-2f53-4414-819a-7c3ead8dba83": {
       "attrs": {
        "height": 0.8,
        "width": 0.8,
        "x": 0.1,
        "y": 0.1
       },
       "content": {
        "cell": "3d49effb-edc4-4e32-97f5-71edceffad2b",
        "part": "whole"
       },
       "id": "4d2d7857-2f53-4414-819a-7c3ead8dba83"
      }
     }
    },
    "32c60862-fd59-48b8-b50c-773bfad231a7": {
     "id": "32c60862-fd59-48b8-b50c-773bfad231a7",
     "prev": "60596f56-2fdb-472b-abae-baa4a5e8bc45",
     "regions": {
      "58a45b5c-d165-4ad9-8cb0-5dbc8cb9d587": {
       "attrs": {
        "height": 0.8,
        "width": 0.8,
        "x": 0.1,
        "y": 0.1
       },
       "content": {
        "cell": "5a480643-c2b4-48e6-8730-e6b562d384c4",
        "part": "whole"
       },
       "id": "58a45b5c-d165-4ad9-8cb0-5dbc8cb9d587"
      }
     }
    },
    "3a416dcf-51df-4b02-8683-26b8d70a5e5c": {
     "id": "3a416dcf-51df-4b02-8683-26b8d70a5e5c",
     "prev": "5cd30438-ec92-4169-9724-3b5e27e494d1",
     "regions": {
      "bda9b48a-6517-48c1-8ff0-972aca11874e": {
       "attrs": {
        "height": 0.8,
        "width": 0.8,
        "x": 0.1,
        "y": 0.1
       },
       "content": {
        "cell": "aaa6c2f8-8088-43b4-a610-9e9b88b64e11",
        "part": "whole"
       },
       "id": "bda9b48a-6517-48c1-8ff0-972aca11874e"
      }
     }
    },
    "5c5e2117-3015-4003-a7c2-d28a010b84a0": {
     "id": "5c5e2117-3015-4003-a7c2-d28a010b84a0",
     "prev": "d20a5e29-9ee8-4bee-8283-4de3720b4be1",
     "regions": {
      "16898ce5-ff9d-44a2-bb19-cb7bda4fb5fc": {
       "attrs": {
        "height": 0.8,
        "width": 0.8,
        "x": 0.1,
        "y": 0.1
       },
       "content": {
        "cell": "77a51ed0-868a-480e-bfae-fd2872c45374",
        "part": "whole"
       },
       "id": "16898ce5-ff9d-44a2-bb19-cb7bda4fb5fc"
      }
     }
    },
    "5cd30438-ec92-4169-9724-3b5e27e494d1": {
     "id": "5cd30438-ec92-4169-9724-3b5e27e494d1",
     "prev": "1dfa7f27-b8f9-4b11-8d14-af67fb8f6e17",
     "regions": {
      "dc2f680a-4b8b-447d-aa2d-afba206a6a17": {
       "attrs": {
        "height": 0.8,
        "width": 0.8,
        "x": 0.1,
        "y": 0.1
       },
       "content": {
        "cell": "002e15c7-d1e5-40a8-90be-acf97b85450f",
        "part": "whole"
       },
       "id": "dc2f680a-4b8b-447d-aa2d-afba206a6a17"
      }
     }
    },
    "60596f56-2fdb-472b-abae-baa4a5e8bc45": {
     "id": "60596f56-2fdb-472b-abae-baa4a5e8bc45",
     "prev": "98a12a76-9cde-4059-91e3-a0d083a85212",
     "regions": {
      "4e8d0ac0-7d8b-4158-85cc-f3bd6314561f": {
       "attrs": {
        "height": 0.8,
        "width": 0.8,
        "x": 0.1,
        "y": 0.1
       },
       "content": {
        "cell": "3655c50c-d5bc-4f6f-8690-c8c4bd19f219",
        "part": "whole"
       },
       "id": "4e8d0ac0-7d8b-4158-85cc-f3bd6314561f"
      }
     }
    },
    "615bb377-43cb-4502-aa4a-7bd1cdcc25d6": {
     "id": "615bb377-43cb-4502-aa4a-7bd1cdcc25d6",
     "prev": "04acbe50-7f68-4842-a722-453d2f2e9df8",
     "regions": {
      "ca00e314-5ab3-4710-8717-a5e8322bb699": {
       "attrs": {
        "height": 0.8,
        "width": 0.8,
        "x": 0.1,
        "y": 0.1
       },
       "content": {
        "cell": "3fc3762c-ed08-49e4-8d82-7a3e8e18ee4b",
        "part": "whole"
       },
       "id": "ca00e314-5ab3-4710-8717-a5e8322bb699"
      }
     }
    },
    "641a6e25-9b86-4689-be45-dd1259eb29c4": {
     "id": "641a6e25-9b86-4689-be45-dd1259eb29c4",
     "prev": "28c43725-c7bc-4969-8729-00f34fe5be60",
     "regions": {
      "b95e890f-5fa5-4211-84b0-c0981998e3d3": {
       "attrs": {
        "height": 0.8,
        "width": 0.8,
        "x": 0.1,
        "y": 0.1
       },
       "content": {
        "cell": "e89d6f94-7450-4235-a7f5-df4eb95e128e",
        "part": "whole"
       },
       "id": "b95e890f-5fa5-4211-84b0-c0981998e3d3"
      }
     }
    },
    "85da90b9-85d6-44ba-a1e2-93a608254c47": {
     "id": "85da90b9-85d6-44ba-a1e2-93a608254c47",
     "prev": "26a79319-d0a0-4638-8032-bda78d717ad6",
     "regions": {
      "83b938d3-ee6c-4ce2-93ae-f8baddfea4e5": {
       "attrs": {
        "height": 0.8,
        "width": 0.8,
        "x": 0.1,
        "y": 0.1
       },
       "content": {
        "cell": "f3571afd-2695-4c10-ba26-886a94a87908",
        "part": "whole"
       },
       "id": "83b938d3-ee6c-4ce2-93ae-f8baddfea4e5"
      }
     }
    },
    "92a61179-60e7-4e98-b737-d5e551f608b8": {
     "id": "92a61179-60e7-4e98-b737-d5e551f608b8",
     "prev": "615bb377-43cb-4502-aa4a-7bd1cdcc25d6",
     "regions": {
      "4bbe8787-eacd-4a6f-a43c-4879c0069dee": {
       "attrs": {
        "height": 0.8,
        "width": 0.8,
        "x": 0.1,
        "y": 0.1
       },
       "content": {
        "cell": "4663ef62-1927-416a-8b7d-31f811ddbbae",
        "part": "whole"
       },
       "id": "4bbe8787-eacd-4a6f-a43c-4879c0069dee"
      }
     }
    },
    "98a12a76-9cde-4059-91e3-a0d083a85212": {
     "id": "98a12a76-9cde-4059-91e3-a0d083a85212",
     "prev": "af64e492-fe0e-4fe2-b3c8-d8f8a0a48453",
     "regions": {
      "a7f18cc5-f87a-4553-8c17-5cf69ee6856a": {
       "attrs": {
        "height": 0.8,
        "width": 0.8,
        "x": 0.1,
        "y": 0.1
       },
       "content": {
        "cell": "a1a4d9c0-fb89-42df-aceb-15bd5f74fee7",
        "part": "whole"
       },
       "id": "a7f18cc5-f87a-4553-8c17-5cf69ee6856a"
      }
     }
    },
    "af64e492-fe0e-4fe2-b3c8-d8f8a0a48453": {
     "id": "af64e492-fe0e-4fe2-b3c8-d8f8a0a48453",
     "prev": "1714f598-8b18-4bf1-af89-a7d7fae20815",
     "regions": {
      "19d11aca-4eed-4e8c-a9cd-3f93a349fc3d": {
       "attrs": {
        "height": 0.8,
        "width": 0.8,
        "x": 0.1,
        "y": 0.1
       },
       "content": {
        "cell": "bf43ff83-d0d3-45f5-a35c-aad87d00816e",
        "part": "whole"
       },
       "id": "19d11aca-4eed-4e8c-a9cd-3f93a349fc3d"
      }
     }
    },
    "bef61de7-d72c-46f8-8a72-07d1adc4156b": {
     "id": "bef61de7-d72c-46f8-8a72-07d1adc4156b",
     "prev": "21c7065a-38df-43d6-8365-72f7b623a052",
     "regions": {
      "d66b7fe3-a49f-427b-8eb0-c39f9632ab7e": {
       "attrs": {
        "height": 0.8,
        "width": 0.8,
        "x": 0.1,
        "y": 0.1
       },
       "content": {
        "cell": "cb60b12c-d2aa-41c4-b4ce-303ef9d5a803",
        "part": "whole"
       },
       "id": "d66b7fe3-a49f-427b-8eb0-c39f9632ab7e"
      }
     }
    },
    "cd4de6c8-1e64-4f53-a67e-50ce34697501": {
     "id": "cd4de6c8-1e64-4f53-a67e-50ce34697501",
     "prev": "12c05363-60a7-4ce5-9fe6-b26e15290c87",
     "regions": {
      "c7869ca0-3268-4b85-95f7-3a6c38a44537": {
       "attrs": {
        "height": 0.8,
        "width": 0.8,
        "x": 0.1,
        "y": 0.1
       },
       "content": {
        "cell": "f76a7066-731a-4b39-81e3-7085bdac5ca9",
        "part": "whole"
       },
       "id": "c7869ca0-3268-4b85-95f7-3a6c38a44537"
      }
     }
    },
    "d20a5e29-9ee8-4bee-8283-4de3720b4be1": {
     "id": "d20a5e29-9ee8-4bee-8283-4de3720b4be1",
     "prev": "92a61179-60e7-4e98-b737-d5e551f608b8",
     "regions": {
      "90e07c05-3008-4c6c-86e8-33af0b79e41e": {
       "attrs": {
        "height": 0.8,
        "width": 0.8,
        "x": 0.1,
        "y": 0.1
       },
       "content": {
        "cell": "c692bbd3-6db1-40da-8fde-d4086c9b729b",
        "part": "whole"
       },
       "id": "90e07c05-3008-4c6c-86e8-33af0b79e41e"
      }
     }
    },
    "f2b4cbb9-9feb-491b-bc4a-2185735cc73b": {
     "id": "f2b4cbb9-9feb-491b-bc4a-2185735cc73b",
     "prev": "3a416dcf-51df-4b02-8683-26b8d70a5e5c",
     "regions": {
      "edbe21d0-ea68-4359-ba11-1551d6847168": {
       "attrs": {
        "height": 0.8,
        "width": 0.8,
        "x": 0.1,
        "y": 0.1
       },
       "content": {
        "cell": "0a7e6284-17d7-4697-b462-c442c4a456f8",
        "part": "whole"
       },
       "id": "edbe21d0-ea68-4359-ba11-1551d6847168"
      }
     }
    }
   },
   "themes": {}
  }
 },
 "nbformat": 4,
 "nbformat_minor": 1
}
