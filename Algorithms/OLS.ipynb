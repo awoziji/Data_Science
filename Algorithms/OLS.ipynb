{
 "cells": [
  {
   "cell_type": "markdown",
   "metadata": {},
   "source": [
    "# Implementing Linear Regression or Ordinary Least Squares\n",
    "\n",
    "Based on the articles [Linear Regression (Part 1): types, examples, Gradient descent example](https://towardsdatascience.com/linear-regression-part-1-types-examples-gradient-descent-example-2e8c22b05f61) and [Linear Regression (Part 2): Implementation in python, an example from scratch.](https://towardsdatascience.com/implementation-linear-regression-in-python-in-5-minutes-from-scratch-f111c8cc5c99)\n",
    "by Chethan Kumar GN"
   ]
  },
  {
   "cell_type": "code",
   "execution_count": 1,
   "metadata": {
    "collapsed": false
   },
   "outputs": [],
   "source": [
    "import numpy as np\n",
    "import pandas as pd\n",
    "from math import sqrt\n",
    "\n",
    "import matplotlib.pyplot as plt\n",
    "%matplotlib inline\n",
    "\n",
    "# Generate a data set to simulate blood pressures\n",
    "bps = zip(sorted(np.random.randint(\n",
    "          low = 100,\n",
    "          high = 200,\n",
    "          size = 111\n",
    "        )),\n",
    "       sorted(np.random.randint(\n",
    "                  low = 40,\n",
    "                  high = 130,\n",
    "                  size = 111\n",
    "        ))\n",
    "      )\n",
    "\n",
    "# Separate the bps into the systolic (x) and diastolic (y)\n",
    "# portions. This seems silly having just zipped them, but\n",
    "# we're simulating having a real dataset.\n",
    "X, y = [], []\n",
    "for a,b in bps:\n",
    "    X.append(a)\n",
    "    y.append(b)\n",
    "    \n",
    "X, y = np.array(X), np.array(y)"
   ]
  },
  {
   "cell_type": "markdown",
   "metadata": {},
   "source": [
    "## A view of our dataset\n",
    "\n",
    "We can plot the data and see that it's kind of linear. It won't be a great fit but we'll give it a try."
   ]
  },
  {
   "cell_type": "code",
   "execution_count": 2,
   "metadata": {
    "collapsed": false
   },
   "outputs": [
    {
     "data": {
      "text/plain": [
       "<matplotlib.text.Text at 0x119c9cef0>"
      ]
     },
     "execution_count": 2,
     "metadata": {},
     "output_type": "execute_result"
    },
    {
     "data": {
      "image/png": "[encoded data removed]",
      "text/plain": [
       "<matplotlib.figure.Figure at 0x10654c2e8>"
      ]
     },
     "metadata": {},
     "output_type": "display_data"
    }
   ],
   "source": [
    "plt.scatter(X,y)\n",
    "plt.title('Scatter Plot of Diastolic vs Systolic Pressures')\n",
    "plt.xlabel('Systolic')\n",
    "plt.ylabel('Diastolic')"
   ]
  },
  {
   "cell_type": "markdown",
   "metadata": {},
   "source": [
    "## Creating our Linear Regression Function"
   ]
  },
  {
   "cell_type": "code",
   "execution_count": 3,
   "metadata": {
    "collapsed": true
   },
   "outputs": [],
   "source": [
    "def coefficient_estimator(x, y):\n",
    "    '''Our implementation of the linear regression algorithm'''\n",
    "    # Determine the size of the dataset\n",
    "    n = np.size(x)\n",
    "    \n",
    "    # Find the mean value of X and y\n",
    "    mean_x, mean_y = np.mean(x), np.mean(y)\n",
    "    \n",
    "    # Determine the deviations from y (cross-deviation) and\n",
    "    # determining the deviations from x\n",
    "    SS_xy = np.sum(x * y - n * mean_x * mean_y)\n",
    "    SS_xx = np.sum(x * x - n * mean_x * mean_x)\n",
    "    \n",
    "    # Calculate the coefficients\n",
    "    b_1 = SS_xy / SS_xx\n",
    "    b_0 = mean_y - b_1 * mean_x\n",
    "    \n",
    "    return (b_0, b_1)\n",
    "\n",
    "def plot_estimator(X, y, title='', xlabel='', ylabel=''):\n",
    "    '''plot_estimator() allows you to compute the linear regression and plot the \n",
    "    original data as a scatter plot with the predicted line on top'''\n",
    "    # Determine the coefficients using the previous function\n",
    "    # and determine the predicted values\n",
    "    b = coefficient_estimator(X,y)\n",
    "    pred = b[0] + b[1] * X\n",
    "\n",
    "    #Plot the data and give it a title\n",
    "    plt.scatter(X,y)\n",
    "    plt.plot(X,pred, c = 'c')\n",
    "    plt.title(title)\n",
    "    plt.xlabel(xlabel)\n",
    "    plt.ylabel(ylabel)\n",
    "    \n",
    "    # Print the equation of best fit\n",
    "    print('Regression line: {:.4f} + {:.4f}*X'.format(*b))"
   ]
  },
  {
   "cell_type": "markdown",
   "metadata": {},
   "source": [
    "### Fit and plot our Blood Pressure Datas"
   ]
  },
  {
   "cell_type": "code",
   "execution_count": 4,
   "metadata": {
    "collapsed": false
   },
   "outputs": [
    {
     "name": "stdout",
     "output_type": "stream",
     "text": [
      "Regression line: 0.0127 + 0.5677*X\n"
     ]
    },
    {
     "data": {
      "image/png": "[encoded data removed]",
      "text/plain": [
       "<matplotlib.figure.Figure at 0x119cee908>"
      ]
     },
     "metadata": {},
     "output_type": "display_data"
    }
   ],
   "source": [
    "plot_estimator(X,\n",
    "               y,\n",
    "               title = 'Scatter Plot of Diastolic vs Systolic Pressures\\nwith Best Fit Line',\n",
    "              xlabel='Systolic',\n",
    "              ylabel='Diastolic')"
   ]
  },
  {
   "cell_type": "markdown",
   "metadata": {},
   "source": [
    "## Using another dataset\n",
    "\n",
    "Poverty data from [Penn State's Stats Class](https://onlinecourses.science.psu.edu/stat462/node/101/)"
   ]
  },
  {
   "cell_type": "code",
   "execution_count": 5,
   "metadata": {
    "collapsed": false
   },
   "outputs": [
    {
     "data": {
      "text/html": [
       "<div>\n",
       "<style scoped>\n",
       "    .dataframe tbody tr th:only-of-type {\n",
       "        vertical-align: middle;\n",
       "    }\n",
       "\n",
       "    .dataframe tbody tr th {\n",
       "        vertical-align: top;\n",
       "    }\n",
       "\n",
       "    .dataframe thead th {\n",
       "        text-align: right;\n",
       "    }\n",
       "</style>\n",
       "<table border=\"1\" class=\"dataframe\">\n",
       "  <thead>\n",
       "    <tr style=\"text-align: right;\">\n",
       "      <th></th>\n",
       "      <th>Location</th>\n",
       "      <th>PovPct</th>\n",
       "      <th>Brth15to17</th>\n",
       "      <th>Brth18to19</th>\n",
       "      <th>ViolCrime</th>\n",
       "      <th>TeenBrth</th>\n",
       "    </tr>\n",
       "  </thead>\n",
       "  <tbody>\n",
       "    <tr>\n",
       "      <th>0</th>\n",
       "      <td>Alabama</td>\n",
       "      <td>20.1</td>\n",
       "      <td>31.5</td>\n",
       "      <td>88.7</td>\n",
       "      <td>11.2</td>\n",
       "      <td>54.5</td>\n",
       "    </tr>\n",
       "    <tr>\n",
       "      <th>1</th>\n",
       "      <td>Alaska</td>\n",
       "      <td>7.1</td>\n",
       "      <td>18.9</td>\n",
       "      <td>73.7</td>\n",
       "      <td>9.1</td>\n",
       "      <td>39.5</td>\n",
       "    </tr>\n",
       "    <tr>\n",
       "      <th>2</th>\n",
       "      <td>Arizona</td>\n",
       "      <td>16.1</td>\n",
       "      <td>35.0</td>\n",
       "      <td>102.5</td>\n",
       "      <td>10.4</td>\n",
       "      <td>61.2</td>\n",
       "    </tr>\n",
       "    <tr>\n",
       "      <th>3</th>\n",
       "      <td>Arkansas</td>\n",
       "      <td>14.9</td>\n",
       "      <td>31.6</td>\n",
       "      <td>101.7</td>\n",
       "      <td>10.4</td>\n",
       "      <td>59.9</td>\n",
       "    </tr>\n",
       "    <tr>\n",
       "      <th>4</th>\n",
       "      <td>California</td>\n",
       "      <td>16.7</td>\n",
       "      <td>22.6</td>\n",
       "      <td>69.1</td>\n",
       "      <td>11.2</td>\n",
       "      <td>41.1</td>\n",
       "    </tr>\n",
       "  </tbody>\n",
       "</table>\n",
       "</div>"
      ],
      "text/plain": [
       "     Location  PovPct  Brth15to17  Brth18to19  ViolCrime  TeenBrth\n",
       "0     Alabama    20.1        31.5        88.7       11.2      54.5\n",
       "1      Alaska     7.1        18.9        73.7        9.1      39.5\n",
       "2     Arizona    16.1        35.0       102.5       10.4      61.2\n",
       "3    Arkansas    14.9        31.6       101.7       10.4      59.9\n",
       "4  California    16.7        22.6        69.1       11.2      41.1"
      ]
     },
     "execution_count": 5,
     "metadata": {},
     "output_type": "execute_result"
    }
   ],
   "source": [
    "poverty_data = pd.read_csv('poverty.csv', '\\t')\n",
    "\n",
    "poverty_pct = poverty_data['PovPct']\n",
    "viol_crim = poverty_data['ViolCrime']\n",
    "teen_birth = poverty_data['TeenBrth']\n",
    "poverty_data.head()"
   ]
  },
  {
   "cell_type": "markdown",
   "metadata": {},
   "source": [
    "### Fit and plot the poverty percentages versus the violent crime rates and versus the teen birth rates\n",
    "\n",
    "The units for the violent crime rates and teen birth rates are assumed from the textual context on the PSU website since they're not given."
   ]
  },
  {
   "cell_type": "code",
   "execution_count": 6,
   "metadata": {
    "collapsed": false
   },
   "outputs": [
    {
     "name": "stdout",
     "output_type": "stream",
     "text": [
      "Regression line: 0.0104 + 0.5980*X\n"
     ]
    },
    {
     "data": {
      "image/png": "[encoded data removed]",
      "text/plain": [
       "<matplotlib.figure.Figure at 0x11a0a4f28>"
      ]
     },
     "metadata": {},
     "output_type": "display_data"
    }
   ],
   "source": [
    "plot_estimator(poverty_pct,\n",
    "               viol_crim,\n",
    "               title = 'Violent Crime vs Poverty Percentage',\n",
    "              xlabel='Poverty Percentage (%)',\n",
    "              ylabel='Violent Crime (per 1000)')"
   ]
  },
  {
   "cell_type": "code",
   "execution_count": 7,
   "metadata": {
    "collapsed": false
   },
   "outputs": [
    {
     "name": "stdout",
     "output_type": "stream",
     "text": [
      "Regression line: -0.0327 + 3.2228*X\n"
     ]
    },
    {
     "data": {
      "image/png": "[encoded data removed]",
      "text/plain": [
       "<matplotlib.figure.Figure at 0x1255475c0>"
      ]
     },
     "metadata": {},
     "output_type": "display_data"
    }
   ],
   "source": [
    "plot_estimator(poverty_pct,\n",
    "               teen_birth,\n",
    "               title = 'Teen Births vs Poverty Percentage',\n",
    "              xlabel='Poverty Percentage (%)',\n",
    "              ylabel='Teen Births (per 1000)')"
   ]
  }
 ],
 "metadata": {
  "anaconda-cloud": {},
  "kernelspec": {
   "display_name": "Python [default]",
   "language": "python",
   "name": "python3"
  },
  "language_info": {
   "codemirror_mode": {
    "name": "ipython",
    "version": 3
   },
   "file_extension": ".py",
   "mimetype": "text/x-python",
   "name": "python",
   "nbconvert_exporter": "python",
   "pygments_lexer": "ipython3",
   "version": "3.5.2"
  }
 },
 "nbformat": 4,
 "nbformat_minor": 1
}
