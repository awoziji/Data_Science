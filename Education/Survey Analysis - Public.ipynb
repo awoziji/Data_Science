{
 "cells": [
  {
   "cell_type": "markdown",
   "metadata": {},
   "source": [
    "# Creating Donut Charts from Survey Responses\n",
    "\n",
    "Recently I helped conduct a survey about student engagement at our school and I needed to create a way to clearly present the results to the entire faculty and staff. I decided that since most people enjoy pie charts, that might be a good format for the data. However, knowing that they aren't the best representation, I decided to use their more intuitive cousin: **Donut Charts** [[1](http://www.businessinsider.com/pie-charts-are-the-worst-2013-6), [2](https://www.quora.com/How-and-why-are-pie-charts-considered-evil-by-data-visualization-experts), [3](https://blog.funnel.io/why-we-dont-use-pie-charts-and-some-tips-on-better-data-visualizations)]. Donut charts also have their drawbacks, but I felt that for the comparisions that I wanted to do a bar chart would have been very tough to read for a general audience [[4](http://www.datarevelations.com/with-great-power-comes-great-responsibility-or-think-before-you-use-a-donut-chart.html), [5](https://www.evolytics.com/blog/tableau-201-how-to-make-donut-charts/), [6](http://www.vizwiz.com/2012/06/donut-charts-are-worse-than-pie-charts.html), [7](https://ux.stackexchange.com/questions/105837/pie-chart-vs-doughnut-chart-when-to-use-each)].  "
   ]
  },
  {
   "cell_type": "code",
   "execution_count": 15,
   "metadata": {
    "collapsed": false
   },
   "outputs": [],
   "source": [
    "import pandas as pd\n",
    "import numpy as np\n",
    "import scipy\n",
    "\n",
    "from datetime import datetime\n",
    "import re\n",
    "\n",
    "import glob\n",
    "import os\n",
    "\n",
    "import matplotlib.pyplot as plt\n",
    "\n",
    "%matplotlib inline"
   ]
  },
  {
   "cell_type": "markdown",
   "metadata": {},
   "source": [
    "Setting the default font sizes for `matplotlib`"
   ]
  },
  {
   "cell_type": "code",
   "execution_count": 230,
   "metadata": {
    "collapsed": true
   },
   "outputs": [],
   "source": [
    "SMALL_SIZE = 10\n",
    "MEDIUM_SIZE = 11\n",
    "BIGGER_SIZE = 14\n",
    "\n",
    "plt.rc('font', size=SMALL_SIZE)          # controls default text sizes\n",
    "plt.rc('axes', titlesize=SMALL_SIZE)     # fontsize of the axes title\n",
    "plt.rc('axes', labelsize=MEDIUM_SIZE)    # fontsize of the x and y labels\n",
    "plt.rc('xtick', labelsize=SMALL_SIZE)    # fontsize of the tick labels\n",
    "plt.rc('ytick', labelsize=SMALL_SIZE)    # fontsize of the tick labels\n",
    "plt.rc('legend', fontsize=SMALL_SIZE)    # legend fontsize\n",
    "plt.rc('figure', titlesize=BIGGER_SIZE)  # fontsize of the figure title"
   ]
  },
  {
   "cell_type": "markdown",
   "metadata": {},
   "source": [
    "Create color lists that mimic Tableau. Tableau 20 is the standard color scheme but the `tableau5` is the set of colors I used for the Faculty survey earlier in the year and visualized with Tableau. That survey had 5 responses (strongly disagree to strongly agree). The student on did not include a neutral response and so I removed the neutral response to come up with 'tableau4'. This scheme was applied to all of the answer choices even though they varied. This made the visual assignment of positive/negative consistent throughout. After we define the colors we can create a dictionary that will hold our label:value map. (We actually need to create two dictionaries because the response 'some' is used in two different contexts.)"
   ]
  },
  {
   "cell_type": "code",
   "execution_count": 3,
   "metadata": {
    "collapsed": true
   },
   "outputs": [],
   "source": [
    "tableau20 = [(31, 119, 180), (174, 199, 232), (255, 127, 14), (255, 187, 120),    \n",
    "             (44, 160, 44), (152, 223, 138), (214, 39, 40), (255, 152, 150),    \n",
    "             (148, 103, 189), (197, 176, 213), (140, 86, 75), (196, 156, 148),    \n",
    "             (227, 119, 194), (247, 182, 210), (127, 127, 127), (199, 199, 199),    \n",
    "             (188, 189, 34), (219, 219, 141), (23, 190, 207), (158, 218, 229)]    \n",
    "\n",
    "tableau5 = [(200,82,0),(255,188,121),(200,208,217),(163,204,233),(17,122,170)]\n",
    "  \n",
    "# Scale the RGB values to the [0, 1] range, which is the format matplotlib accepts.    \n",
    "for i in range(len(tableau20)):    \n",
    "    r, g, b = tableau20[i]    \n",
    "    tableau20[i] = (r / 255., g / 255., b / 255.)\n",
    "\n",
    "for i in range(len(tableau5)):    \n",
    "    r, g, b = tableau5[i]    \n",
    "    tableau5[i] = (r / 255., g / 255., b / 255.)\n",
    "    \n",
    "tableau4 = tableau5[:2] + tableau5[-2:]\n",
    "\n",
    "response_order = ['Strongly Disagree', 'Disagree', 'Agree', 'Strongly Agree']\n",
    "response_order_2 = ['Never', 'Rarely', 'Sometimes', 'Often']\n",
    "response_order_3 = ['None', 'Some', 'Most', 'All']\n",
    "response_order_4 = ['Not at all', 'Very little', 'Sometimes', 'Very much']\n",
    "\n",
    "color_dict = {x:y for x,y in zip(response_order, tableau4)}\n",
    "for x,y in zip(response_order_2, tableau4):\n",
    "    color_dict[x] = y\n",
    "for x,y in zip(response_order_3, tableau4):\n",
    "    color_dict[x] = y\n",
    "\n",
    "color_dict_2 = {x:y for x,y in zip(response_order_4, tableau4)}"
   ]
  },
  {
   "cell_type": "markdown",
   "metadata": {},
   "source": [
    "Import the most recent excel file in the directory"
   ]
  },
  {
   "cell_type": "code",
   "execution_count": 4,
   "metadata": {
    "collapsed": false
   },
   "outputs": [],
   "source": [
    "latest_survey_file = max(glob.iglob('*.xlsx'), key=os.path.getctime)"
   ]
  },
  {
   "cell_type": "markdown",
   "metadata": {},
   "source": [
    "### Fixing the Timestamps\n",
    "\n",
    "When I copied the timestamps from one sheet to another, they differed on the order of milliseconds for some reason. In \n",
    "order to properly `join()` the data later (since that was my primary key) I needed to ensure that the records were consistent across the dataset. The timestamp showed the second the survey was completed, so it should have been the same across the set. Luckily I was dealing with a small number of records and was able to visually inspect the dataset. I noticed that the keys were mismatched in the millisecond range but that they were the same when rounded to the nearest second. The function `date_fix()` uses the millisecond portion to determine if the seconds should be rounded or not. There were two values that occurred within that 0.5 second window, so I end up losing one response."
   ]
  },
  {
   "cell_type": "code",
   "execution_count": 72,
   "metadata": {
    "collapsed": false
   },
   "outputs": [
    {
     "name": "stdout",
     "output_type": "stream",
     "text": [
      "raw_responses:  260 259\n",
      "resp_w_alt_quest:  260 259\n",
      "demos:  260 259\n"
     ]
    }
   ],
   "source": [
    "dummy_day = '2099-04-11 13:24:15'\n",
    "\n",
    "def date_fix(date):\n",
    "    try:\n",
    "        stem, final, rounding = re.search(r'(.*)(\\d{2})\\.(\\d{4,6})$', str(date)).groups()\n",
    "        if int(rounding[0]) >4:\n",
    "            return datetime.strptime('{}{}'.format(stem,int(final)+1), '%Y-%m-%d %H:%M:%S')\n",
    "        return datetime.strptime('{}{}'.format(stem,final), '%Y-%m-%d %H:%M:%S')\n",
    "    except ValueError: \n",
    "        return datetime.strptime(dummy_day, '%Y-%m-%d %H:%M:%S')\n",
    "    except AttributeError:\n",
    "        return datetime.strptime(dummy_day, '%Y-%m-%d %H:%M:%S')\n",
    "    \n",
    "raw_responses = pd.read_excel(\n",
    "    latest_survey_file,\n",
    "    sheetname='Raw Responses',\n",
    "    parse_dates = True,\n",
    "    date_parser = date_fix,\n",
    "    index_col='Timestamp'\n",
    ")\n",
    "assert raw_responses[raw_responses.index == dummy_day].shape[0] == 0\n",
    "print('raw_responses: ',raw_responses.shape[0],raw_responses.index.nunique())\n",
    "\n",
    "resp_w_alt_quest = pd.read_excel(\n",
    "    latest_survey_file,\n",
    "    sheetname='Responses with Altered Question',\n",
    "    parse_dates = True,\n",
    "    date_parser = date_fix,\n",
    "    index_col='Timestamp'\n",
    ")\n",
    "assert resp_w_alt_quest[resp_w_alt_quest.index == dummy_day].shape[0] == 0\n",
    "print('resp_w_alt_quest: ',resp_w_alt_quest.shape[0],resp_w_alt_quest.index.nunique())\n",
    "\n",
    "quest_meta = pd.read_excel(\n",
    "    latest_survey_file,\n",
    "    sheetname='Question Metadata',\n",
    "    index_col='Survey Question'\n",
    ")\n",
    "      \n",
    "demos = pd.read_excel(\n",
    "    latest_survey_file,\n",
    "    sheetname='Demographics',\n",
    "    parse_dates = True,\n",
    "    date_parser = date_fix,\n",
    "    index_col='Timestamp'\n",
    ")\n",
    "assert demos[demos.index == dummy_day].shape[0] == 0\n",
    "print('demos: ',demos.shape[0],demos.index.nunique())"
   ]
  },
  {
   "cell_type": "markdown",
   "metadata": {},
   "source": [
    "After importing each sheet as a dataframe, I want to extract the categories of interest and the grade levels. This will allow me to search through the data for specific categories and grade levels."
   ]
  },
  {
   "cell_type": "code",
   "execution_count": 6,
   "metadata": {
    "collapsed": false
   },
   "outputs": [],
   "source": [
    "faculty_group_disc = quest_meta[quest_meta['Faculty Group Discussion'] == 'Y']\n",
    "categories = faculty_group_disc.Category.unique().tolist()\n",
    "\n",
    "grade_levels = sorted(resp_w_alt_quest['What is your current grade?'].unique().tolist())"
   ]
  },
  {
   "cell_type": "markdown",
   "metadata": {},
   "source": [
    "We create a new dataframe that contains only the relevant questions called `survey_results`. This is joined with the demographic information to produce a new table. We can prevent losing the 'overlapping' data point by finding the set of duplicate indicies and concatenating a top slice which contains the first duplicate and a bottom slice which containes the last duplicate. This preserves the information in the new dataframe."
   ]
  },
  {
   "cell_type": "code",
   "execution_count": 188,
   "metadata": {
    "collapsed": false
   },
   "outputs": [
    {
     "name": "stdout",
     "output_type": "stream",
     "text": [
      "\t\t\t\tRows Unique\n",
      "After selecting questions:\t 260 259\n",
      "After join:\t\t\t 261 258\n",
      "After slicing:\t\t\t 259 258\n"
     ]
    }
   ],
   "source": [
    "survey_results = resp_w_alt_quest[faculty_group_disc.Question.tolist()]\n",
    "print('\\t\\t\\t\\tRows Unique')\n",
    "print('After selecting questions:\\t',survey_results.shape[0],survey_results.index.nunique())\n",
    "\n",
    "survey_results = survey_results.join(\n",
    "                    demos,\n",
    "                    how = 'inner'\n",
    "                ).dropna()\n",
    "\n",
    "print('After join:\\t\\t\\t',survey_results.shape[0], survey_results.index.nunique())\n",
    "\n",
    "dup = survey_results.index.get_loc(survey_results.index.get_duplicates()[0])\n",
    "start = dup.start\n",
    "end = dup.stop\n",
    "survey_results = pd.concat([survey_results.iloc[:start+1], survey_results.iloc[end-1:]])\n",
    "print('After slicing:\\t\\t\\t',survey_results.shape[0], survey_results.index.nunique())"
   ]
  },
  {
   "cell_type": "code",
   "execution_count": 191,
   "metadata": {
    "collapsed": false
   },
   "outputs": [
    {
     "name": "stdout",
     "output_type": "stream",
     "text": [
      "- I am an important part of my high school community\n",
      "- I am comfortable being myself at this school\n",
      "- I can be creative in classroom assignments and projects\n",
      "- Skipped school, faked an illness to stay home, or deliberately come to school late because of disinterest in school\n",
      "- Teachers engage me in classroom discussions\n",
      "- About how many of your classes challenge you to your full academic potential?\n",
      "- I am motivated by my desire to get good grades\n",
      "- I am motivated by my desire to learn\n",
      "- I am motivated by teachers who encourage me\n",
      "- I enjoy working on tasks that require a lot of thinking and mental effort\n",
      "- I like discussions in which there are no clear answers\n",
      "- I put forth a great deal of effort when doing my school work\n",
      "- I see how the work I am doing now will help me after high school\n",
      "- In about how many classes do you give your maximum effort?\n",
      "- In about how many classes do you put forth very little effort?\n",
      "- In general, I am excited about my classes\n",
      "- My school work makes me curious to learn other things\n",
      "- Art, drama activities, and role plays interest me\n",
      "- Discussions and debates interest me\n",
      "- Giving presentations and speeches interest me\n",
      "- Group projects interest me\n",
      "- Individual readings interest me\n",
      "- Projects and lessons involving technology interest me\n",
      "- Research projects interest me\n",
      "- Teacher lectures interest me\n",
      "- Writing projects interest me\n",
      "- Asked or answered questions in class\n",
      "- Attended class with all assignments completed\n",
      "- Completed a creative writing assignment (reflections, journaling, short stories, poetry)\n",
      "- Completed a formal writing assignment (research paper, speech, lab report, position paper)\n",
      "- Connected ideas or concepts from one class (or subject area) to another in classroom assignments or discussions\n",
      "- Discussed grades with teachers\n",
      "- Discussed ideas from readings or classes with others outside of class (friends, family members, coworkers, etc.)\n",
      "- Discussed ideas from readings or classes with teachers outside of class\n",
      "- Discussed questions in class that have no clear answers\n",
      "- Have you ever been bored in class?\n",
      "- Made a class presentation\n",
      "- Prepared a draft of a paper or assignment before turning it in\n",
      "- Received feedback from teachers on assignments or other class work\n",
      "- Talked to a teacher about your class work\n",
      "- Worked with other students on projects/assignments\n"
     ]
    }
   ],
   "source": [
    "questions_of_interest = survey_results.columns.tolist()[:-9]\n",
    "skip = ['If you have ever been bored in class, why? ', 'Timestamp']\n",
    "questions_of_interest = [q for q in questions_of_interest if q not in skip] \n",
    "print('- ', end=\"\", flush=True)\n",
    "print('\\n- '.join(questions_of_interest))"
   ]
  },
  {
   "cell_type": "markdown",
   "metadata": {},
   "source": [
    "### Demonstrating Grouping\n",
    "\n",
    "For each question, I need aggregate data. That is acheived by using the following two variations of the pandas `groupby()` function: one to group on a total population level and the other to group by class year / grade level."
   ]
  },
  {
   "cell_type": "code",
   "execution_count": 132,
   "metadata": {
    "collapsed": false
   },
   "outputs": [
    {
     "data": {
      "text/html": [
       "<div>\n",
       "<style>\n",
       "    .dataframe thead tr:only-child th {\n",
       "        text-align: right;\n",
       "    }\n",
       "\n",
       "    .dataframe thead th {\n",
       "        text-align: left;\n",
       "    }\n",
       "\n",
       "    .dataframe tbody tr th {\n",
       "        vertical-align: top;\n",
       "    }\n",
       "</style>\n",
       "<table border=\"1\" class=\"dataframe\">\n",
       "  <thead>\n",
       "    <tr style=\"text-align: right;\">\n",
       "      <th></th>\n",
       "      <th>Counts</th>\n",
       "    </tr>\n",
       "    <tr>\n",
       "      <th>I am an important part of my high school community</th>\n",
       "      <th></th>\n",
       "    </tr>\n",
       "  </thead>\n",
       "  <tbody>\n",
       "    <tr>\n",
       "      <th>Agree</th>\n",
       "      <td>126</td>\n",
       "    </tr>\n",
       "    <tr>\n",
       "      <th>Disagree</th>\n",
       "      <td>77</td>\n",
       "    </tr>\n",
       "    <tr>\n",
       "      <th>Strongly Agree</th>\n",
       "      <td>36</td>\n",
       "    </tr>\n",
       "    <tr>\n",
       "      <th>Strongly Disagree</th>\n",
       "      <td>22</td>\n",
       "    </tr>\n",
       "  </tbody>\n",
       "</table>\n",
       "</div>"
      ],
      "text/plain": [
       "                                                    Counts\n",
       "I am an important part of my high school community        \n",
       "Agree                                                  126\n",
       "Disagree                                                77\n",
       "Strongly Agree                                          36\n",
       "Strongly Disagree                                       22"
      ]
     },
     "execution_count": 132,
     "metadata": {},
     "output_type": "execute_result"
    }
   ],
   "source": [
    "community_whole = survey_results.\\\n",
    "            groupby(['I am an important part of my high school community']).\\\n",
    "            size().\\\n",
    "            reset_index(name = 'Counts').set_index(\n",
    "                'I am an important part of my high school community')\n",
    "community_whole"
   ]
  },
  {
   "cell_type": "code",
   "execution_count": 192,
   "metadata": {
    "collapsed": false
   },
   "outputs": [
    {
     "data": {
      "text/html": [
       "<div>\n",
       "<style>\n",
       "    .dataframe thead tr:only-child th {\n",
       "        text-align: right;\n",
       "    }\n",
       "\n",
       "    .dataframe thead th {\n",
       "        text-align: left;\n",
       "    }\n",
       "\n",
       "    .dataframe tbody tr th {\n",
       "        vertical-align: top;\n",
       "    }\n",
       "</style>\n",
       "<table border=\"1\" class=\"dataframe\">\n",
       "  <thead>\n",
       "    <tr style=\"text-align: right;\">\n",
       "      <th></th>\n",
       "      <th>Grade Level</th>\n",
       "      <th>Counts</th>\n",
       "    </tr>\n",
       "    <tr>\n",
       "      <th>I am an important part of my high school community</th>\n",
       "      <th></th>\n",
       "      <th></th>\n",
       "    </tr>\n",
       "  </thead>\n",
       "  <tbody>\n",
       "    <tr>\n",
       "      <th>Agree</th>\n",
       "      <td>10th (Sophomore)</td>\n",
       "      <td>36</td>\n",
       "    </tr>\n",
       "    <tr>\n",
       "      <th>Disagree</th>\n",
       "      <td>10th (Sophomore)</td>\n",
       "      <td>27</td>\n",
       "    </tr>\n",
       "    <tr>\n",
       "      <th>Strongly Agree</th>\n",
       "      <td>10th (Sophomore)</td>\n",
       "      <td>7</td>\n",
       "    </tr>\n",
       "    <tr>\n",
       "      <th>Strongly Disagree</th>\n",
       "      <td>10th (Sophomore)</td>\n",
       "      <td>4</td>\n",
       "    </tr>\n",
       "    <tr>\n",
       "      <th>Agree</th>\n",
       "      <td>11th (Junior)</td>\n",
       "      <td>24</td>\n",
       "    </tr>\n",
       "    <tr>\n",
       "      <th>Disagree</th>\n",
       "      <td>11th (Junior)</td>\n",
       "      <td>24</td>\n",
       "    </tr>\n",
       "    <tr>\n",
       "      <th>Strongly Agree</th>\n",
       "      <td>11th (Junior)</td>\n",
       "      <td>14</td>\n",
       "    </tr>\n",
       "    <tr>\n",
       "      <th>Strongly Disagree</th>\n",
       "      <td>11th (Junior)</td>\n",
       "      <td>7</td>\n",
       "    </tr>\n",
       "    <tr>\n",
       "      <th>Agree</th>\n",
       "      <td>12th (Senior)</td>\n",
       "      <td>38</td>\n",
       "    </tr>\n",
       "    <tr>\n",
       "      <th>Disagree</th>\n",
       "      <td>12th (Senior)</td>\n",
       "      <td>14</td>\n",
       "    </tr>\n",
       "    <tr>\n",
       "      <th>Strongly Agree</th>\n",
       "      <td>12th (Senior)</td>\n",
       "      <td>8</td>\n",
       "    </tr>\n",
       "    <tr>\n",
       "      <th>Strongly Disagree</th>\n",
       "      <td>12th (Senior)</td>\n",
       "      <td>5</td>\n",
       "    </tr>\n",
       "    <tr>\n",
       "      <th>Agree</th>\n",
       "      <td>9th (Freshman)</td>\n",
       "      <td>28</td>\n",
       "    </tr>\n",
       "    <tr>\n",
       "      <th>Disagree</th>\n",
       "      <td>9th (Freshman)</td>\n",
       "      <td>11</td>\n",
       "    </tr>\n",
       "    <tr>\n",
       "      <th>Strongly Agree</th>\n",
       "      <td>9th (Freshman)</td>\n",
       "      <td>6</td>\n",
       "    </tr>\n",
       "    <tr>\n",
       "      <th>Strongly Disagree</th>\n",
       "      <td>9th (Freshman)</td>\n",
       "      <td>6</td>\n",
       "    </tr>\n",
       "  </tbody>\n",
       "</table>\n",
       "</div>"
      ],
      "text/plain": [
       "                                                         Grade Level  Counts\n",
       "I am an important part of my high school community                          \n",
       "Agree                                               10th (Sophomore)      36\n",
       "Disagree                                            10th (Sophomore)      27\n",
       "Strongly Agree                                      10th (Sophomore)       7\n",
       "Strongly Disagree                                   10th (Sophomore)       4\n",
       "Agree                                                  11th (Junior)      24\n",
       "Disagree                                               11th (Junior)      24\n",
       "Strongly Agree                                         11th (Junior)      14\n",
       "Strongly Disagree                                      11th (Junior)       7\n",
       "Agree                                                  12th (Senior)      38\n",
       "Disagree                                               12th (Senior)      14\n",
       "Strongly Agree                                         12th (Senior)       8\n",
       "Strongly Disagree                                      12th (Senior)       5\n",
       "Agree                                                 9th (Freshman)      28\n",
       "Disagree                                              9th (Freshman)      11\n",
       "Strongly Agree                                        9th (Freshman)       6\n",
       "Strongly Disagree                                     9th (Freshman)       6"
      ]
     },
     "execution_count": 192,
     "metadata": {},
     "output_type": "execute_result"
    }
   ],
   "source": [
    "community = survey_results.\\\n",
    "            groupby(['Grade Level', 'I am an important part of my high school community']).\\\n",
    "            size().\\\n",
    "            reset_index(name = 'Counts').set_index(\n",
    "                'I am an important part of my high school community')\n",
    "community"
   ]
  },
  {
   "cell_type": "markdown",
   "metadata": {},
   "source": [
    "### Generalizing the Aggregator\n",
    "\n",
    "To make it easier to iterate through all of the questions and grade levels, I want to make a function that does both aggregates and stores them during the loops. `aggregator` returns two dataframes: one aggregated by response and the other by response and grade level."
   ]
  },
  {
   "cell_type": "code",
   "execution_count": 193,
   "metadata": {
    "collapsed": true
   },
   "outputs": [],
   "source": [
    "def aggregator(question):\n",
    "    return survey_results.\\\n",
    "            groupby(['Grade Level', question]).\\\n",
    "            size().\\\n",
    "            reset_index(name = 'Counts').set_index(question), survey_results.\\\n",
    "            groupby([question]).\\\n",
    "            size().\\\n",
    "            reset_index(name = 'Counts').set_index(question)"
   ]
  },
  {
   "cell_type": "markdown",
   "metadata": {},
   "source": [
    "In order to make sure the responses are sorted in a logical order, I wrote the `reorder` function which takes the dataframe and returns the counts, labels and colors in the correct order. I needed to add the `_responses` and `_colors` objects so that I could generalize to each of the question response types. Since the response \"some\" shows up in two different contexts, I needed to utilize two different color dictionaries. `response_map()` chooses which set of responses will be passed into `reorder`."
   ]
  },
  {
   "cell_type": "code",
   "execution_count": 196,
   "metadata": {
    "collapsed": true
   },
   "outputs": [],
   "source": [
    "def reorder(df, responses, special = False):\n",
    "    _counts = []\n",
    "    _responses = []\n",
    "    _colors = []\n",
    "    for x in responses:\n",
    "        try:\n",
    "            _counts.append(df.loc[x,'Counts'])\n",
    "            _responses.append(x)\n",
    "            if special:\n",
    "                _colors.append(color_dict_2[x])\n",
    "            else:\n",
    "                _colors.append(color_dict[x])\n",
    "        except:\n",
    "            pass\n",
    "    return _counts, _responses, _colors\n",
    "\n",
    "def response_map(df):\n",
    "    special = False\n",
    "    if df.index.unique()[0] in response_order:\n",
    "        responses = response_order\n",
    "    elif df.index.unique()[0] in response_order_2:\n",
    "        responses = response_order_2\n",
    "    elif df.index.unique()[0] in response_order_3:\n",
    "        responses = response_order_3\n",
    "    elif df.index.unique()[0] in response_order_4:\n",
    "        responses = response_order_4\n",
    "        special = True\n",
    "    else:\n",
    "        raise ValueError('A very specific bad thing happened: Wrong responses!')\n",
    "    return responses, special"
   ]
  },
  {
   "cell_type": "markdown",
   "metadata": {},
   "source": [
    "## The Coup de Grâce: The Donut Plot\n",
    "\n",
    "Here I set up my donut plot function `donut()`. The data, label and title arguments are required, so it knows what to plot and how to label it, and so that I know what it's a plot of. I've added kwargs to make it easier to use differing color schemes, turn saving on/off, indicate the save method, turn viewing the plot on/off and altering the figure sizes.\n",
    "\n",
    "The function is generalized for both the grade level and overall level plots."
   ]
  },
  {
   "cell_type": "code",
   "execution_count": 232,
   "metadata": {
    "collapsed": false
   },
   "outputs": [],
   "source": [
    "def donut(data, label, title, y = 0.45, colors = tableau4,\n",
    "          save = True, show = False, grade_level = False,\n",
    "          figsize=(6,3), figsize_w=(6,3)):\n",
    "    plt.figure(figsize=figsize, dpi=300, facecolor='w')\n",
    "    plt.pie(data,\n",
    "            labels=label,\n",
    "            autopct='%d%%',\n",
    "            pctdistance = 0.65,\n",
    "            wedgeprops = { 'linewidth' : 7, 'edgecolor' : None },\n",
    "            colors = colors\n",
    "           )\n",
    "    plt.axis('equal')\n",
    "    p = plt.gcf()\n",
    "    p.gca().add_artist(plt.Circle( (0,0), 0.8, color='white'))\n",
    "    plt.title(title, y = y, fontweight='bold', fontsize = BIGGER_SIZE)\n",
    "    plt.subplots_adjust(right=0.9)\n",
    "    plt.tight_layout()\n",
    "    if save:\n",
    "        if grade_level:\n",
    "            plt.savefig('Sample_Figures/' + re.sub(r'/','-', question) +\\\n",
    "                        ' - ' + grade + '.png', \n",
    "                        dpi=600, \n",
    "                        orientation = 'landscape',\n",
    "                        transparent=True,\n",
    "                        )\n",
    "        else:\n",
    "            plt.savefig('Sample_Figures/' + re.sub(r'/','-', question)  + '.png', \n",
    "                        dpi=600, \n",
    "                        figsize=figsize_w,\n",
    "                        orientation = 'landscape',\n",
    "                        transparent=True,\n",
    "                        )\n",
    "    if show:\n",
    "        plt.show()\n",
    "    plt.close()"
   ]
  },
  {
   "cell_type": "code",
   "execution_count": 234,
   "metadata": {
    "collapsed": false,
    "scrolled": false
   },
   "outputs": [
    {
     "data": {
      "image/png": "[encoded data removed]",
      "text/plain": [
       "<matplotlib.figure.Figure at 0x13975fd68>"
      ]
     },
     "metadata": {},
     "output_type": "display_data"
    }
   ],
   "source": [
    "# Initialize question and grade\n",
    "# They are otherwise handled by the loop\n",
    "question = questions_of_interest[-1]\n",
    "grade = None\n",
    "\n",
    "df, df_w = aggregator(question)\n",
    "responses, special = response_map(df)\n",
    "    \n",
    "_counts, _responses, _colors = reorder(df_w, \n",
    "                                        responses, \n",
    "                                        special)\n",
    "donut(\n",
    "    _counts,\n",
    "    _responses,\n",
    "    ' '.join(question.split()[:len(question.split()) // 2]) + '\\n' + \\\n",
    "                ' '.join(question.split()[len(question.split()) // 2:]),\n",
    "    y = 1.05,\n",
    "    colors = _colors,\n",
    "    show = True\n",
    ")"
   ]
  },
  {
   "cell_type": "code",
   "execution_count": 235,
   "metadata": {
    "collapsed": false,
    "scrolled": false
   },
   "outputs": [],
   "source": [
    "for question in questions_of_interest:\n",
    "    grade = None\n",
    "    df, df_w = aggregator(question)\n",
    "    responses, special = response_map(df)\n",
    "    \n",
    "    _counts, _responses, _colors = reorder(df_w, \n",
    "                                           responses, \n",
    "                                           special)\n",
    "    \n",
    "    \n",
    "    donut(\n",
    "        _counts,\n",
    "        _responses,\n",
    "        ' '.join(question.split()[:len(question.split()) // 2]) + '\\n' + \\\n",
    "                 ' '.join(question.split()[len(question.split()) // 2:]),\n",
    "        y = 1.05,\n",
    "        colors = _colors,\n",
    "        show = False,\n",
    "         )\n",
    "    \n",
    "    for grade in grade_levels:\n",
    "        _counts, _responses, _colors = reorder(df[df['Grade Level'] == grade],\n",
    "                                               responses,\n",
    "                                               special)\n",
    "        donut(\n",
    "            _counts,\n",
    "            _responses,\n",
    "            re.search(r'\\((.*)\\)',grade).group(1),\n",
    "            colors = _colors,\n",
    "            show = False,\n",
    "            grade_level = True\n",
    "             )"
   ]
  }
 ],
 "metadata": {
  "anaconda-cloud": {},
  "kernelspec": {
   "display_name": "Python [default]",
   "language": "python",
   "name": "python3"
  },
  "language_info": {
   "codemirror_mode": {
    "name": "ipython",
    "version": 3
   },
   "file_extension": ".py",
   "mimetype": "text/x-python",
   "name": "python",
   "nbconvert_exporter": "python",
   "pygments_lexer": "ipython3",
   "version": "3.5.2"
  }
 },
 "nbformat": 4,
 "nbformat_minor": 1
}
